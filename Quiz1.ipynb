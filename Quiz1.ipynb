{
  "nbformat": 4,
  "nbformat_minor": 0,
  "metadata": {
    "colab": {
      "provenance": []
    },
    "kernelspec": {
      "name": "python3",
      "display_name": "Python 3"
    },
    "language_info": {
      "name": "python"
    }
  },
  "cells": [
    {
      "cell_type": "markdown",
      "source": [
        "Quiz 1"
      ],
      "metadata": {
        "id": "rg4fh85idftb"
      }
    },
    {
      "cell_type": "markdown",
      "source": [
        "1.- Crea un diccionario que contenga 3 llaves que sean de tipo string y cuyos valores sean una lista que contenga 5 valores (3 numéricos y 2 flotantes).\n",
        "\n",
        "2.- A partir del diccionario anterior, muestra a sus ítems. ¿Qué tipo de objeto se obtiene?\n",
        "\n",
        "3.- Crea un panel de datos usando tu diccionario. Realiza tres segregaciones distintas.\n",
        "\n",
        "4.- Realiza un breve análisis descriptivo de tu panel de datos. Explica los valores que obtienes.\n",
        "\n",
        "5.- Realiza dos filtros de búsqueda sobre tu panel de datos."
      ],
      "metadata": {
        "id": "uz84bMQzggwK"
      }
    },
    {
      "cell_type": "code",
      "source": [
        "diccionario = {\n",
        "    \"llave1\": [1, 2, 3, 4.1, 5.1],\n",
        "    \"llave2\": [6, 7, 8, 9.1, 10.1],\n",
        "    \"llave3\": [11, 12, 13, 14.1, 15.1]\n",
        "}"
      ],
      "metadata": {
        "id": "UualAbvJdhLA"
      },
      "execution_count": null,
      "outputs": []
    },
    {
      "cell_type": "code",
      "source": [
        "items = diccionario.items()\n",
        "print(items)"
      ],
      "metadata": {
        "colab": {
          "base_uri": "https://localhost:8080/"
        },
        "id": "h5UF9ZxeeMUK",
        "outputId": "7137fbf8-bd8a-43dc-cc53-663c1084fddc"
      },
      "execution_count": null,
      "outputs": [
        {
          "output_type": "stream",
          "name": "stdout",
          "text": [
            "dict_items([('llave1', [1, 2, 3, 4.1, 5.1]), ('llave2', [6, 7, 8, 9.1, 10.1]), ('llave3', [11, 12, 13, 14.1, 15.1])])\n"
          ]
        }
      ]
    },
    {
      "cell_type": "code",
      "source": [
        "import pandas as pd\n",
        "\n",
        "d = pd.DataFrame(diccionario)"
      ],
      "metadata": {
        "id": "1DOtzJL4egzI"
      },
      "execution_count": null,
      "outputs": []
    },
    {
      "cell_type": "code",
      "source": [
        "print(d[['llave1']])\n",
        "print(d[d['llave1'] > 1])\n",
        "print(d.iloc[0:3])"
      ],
      "metadata": {
        "colab": {
          "base_uri": "https://localhost:8080/"
        },
        "id": "byXYPMT2eway",
        "outputId": "9581713e-c6a9-4068-812d-ce29513adb51"
      },
      "execution_count": null,
      "outputs": [
        {
          "output_type": "stream",
          "name": "stdout",
          "text": [
            "   llave1\n",
            "0     1.0\n",
            "1     2.0\n",
            "2     3.0\n",
            "3     4.1\n",
            "4     5.1\n",
            "   llave1  llave2  llave3\n",
            "1     2.0     7.0    12.0\n",
            "2     3.0     8.0    13.0\n",
            "3     4.1     9.1    14.1\n",
            "4     5.1    10.1    15.1\n",
            "   llave1  llave2  llave3\n",
            "0     1.0     6.0    11.0\n",
            "1     2.0     7.0    12.0\n",
            "2     3.0     8.0    13.0\n"
          ]
        }
      ]
    },
    {
      "cell_type": "code",
      "source": [
        "descripcion = d.describe()\n",
        "print(descripcion)"
      ],
      "metadata": {
        "colab": {
          "base_uri": "https://localhost:8080/"
        },
        "id": "rL1H2nAie6Mr",
        "outputId": "873f4a8a-4d86-450f-e324-37714339cd46"
      },
      "execution_count": null,
      "outputs": [
        {
          "output_type": "stream",
          "name": "stdout",
          "text": [
            "         llave1     llave2     llave3\n",
            "count  5.000000   5.000000   5.000000\n",
            "mean   3.040000   8.040000  13.040000\n",
            "std    1.628803   1.628803   1.628803\n",
            "min    1.000000   6.000000  11.000000\n",
            "25%    2.000000   7.000000  12.000000\n",
            "50%    3.000000   8.000000  13.000000\n",
            "75%    4.100000   9.100000  14.100000\n",
            "max    5.100000  10.100000  15.100000\n"
          ]
        }
      ]
    },
    {
      "cell_type": "code",
      "source": [
        "filtro1 = d[d['llave1'] > 1.5]\n",
        "filtro2 = d[(d['llave2'] > 8)]"
      ],
      "metadata": {
        "id": "RMgYuswsfHyY"
      },
      "execution_count": null,
      "outputs": []
    },
    {
      "cell_type": "code",
      "source": [
        "print(filtro1)"
      ],
      "metadata": {
        "colab": {
          "base_uri": "https://localhost:8080/"
        },
        "id": "1sQ6ksUufTIn",
        "outputId": "509f4ea3-523f-4f4b-edd8-a7bc878e4436"
      },
      "execution_count": null,
      "outputs": [
        {
          "output_type": "stream",
          "name": "stdout",
          "text": [
            "   llave1  llave2  llave3\n",
            "1     2.0     7.0    12.0\n",
            "2     3.0     8.0    13.0\n",
            "3     4.1     9.1    14.1\n",
            "4     5.1    10.1    15.1\n"
          ]
        }
      ]
    },
    {
      "cell_type": "code",
      "source": [
        "print(filtro2)"
      ],
      "metadata": {
        "colab": {
          "base_uri": "https://localhost:8080/"
        },
        "id": "GWdtXWAZfXnv",
        "outputId": "a7613fdc-1a9c-419f-8ceb-9ab204e3a130"
      },
      "execution_count": null,
      "outputs": [
        {
          "output_type": "stream",
          "name": "stdout",
          "text": [
            "   llave1  llave2  llave3\n",
            "3     4.1     9.1    14.1\n",
            "4     5.1    10.1    15.1\n"
          ]
        }
      ]
    },
    {
      "cell_type": "code",
      "source": [],
      "metadata": {
        "id": "gWl59EkFfZ4z"
      },
      "execution_count": null,
      "outputs": []
    }
  ]
}
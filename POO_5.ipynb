{
  "nbformat": 4,
  "nbformat_minor": 0,
  "metadata": {
    "colab": {
      "provenance": []
    },
    "kernelspec": {
      "name": "python3",
      "display_name": "Python 3"
    },
    "language_info": {
      "name": "python"
    }
  },
  "cells": [
    {
      "cell_type": "markdown",
      "source": [
        "Clases, herencias y polimorfísmos"
      ],
      "metadata": {
        "id": "nzgtDXLpkiTt"
      }
    },
    {
      "cell_type": "code",
      "source": [
        "import pandas as pd\n"
      ],
      "metadata": {
        "id": "zj4Y8zHGkrAw"
      },
      "execution_count": null,
      "outputs": []
    },
    {
      "cell_type": "code",
      "source": [
        "# Vamos a crear una definición (que es una función integrada en python)"
      ],
      "metadata": {
        "id": "JXdm4zrrlO_a"
      },
      "execution_count": null,
      "outputs": []
    },
    {
      "cell_type": "code",
      "source": [
        "def Milanesi(a,b,c):\n",
        "  x = a + b*c\n",
        "  return x\n"
      ],
      "metadata": {
        "id": "oT1yGS3Zou1a"
      },
      "execution_count": null,
      "outputs": []
    },
    {
      "cell_type": "code",
      "source": [
        "Milanesi (1,2,3)"
      ],
      "metadata": {
        "colab": {
          "base_uri": "https://localhost:8080/"
        },
        "id": "0-057iaepGJ8",
        "outputId": "e046fac4-a781-4145-fef9-4ae6f3a8190c"
      },
      "execution_count": null,
      "outputs": [
        {
          "output_type": "execute_result",
          "data": {
            "text/plain": [
              "7"
            ]
          },
          "metadata": {},
          "execution_count": 8
        }
      ]
    },
    {
      "cell_type": "code",
      "source": [
        "#Vamos a crear una definicion que calcule la inversa de una matriz."
      ],
      "metadata": {
        "id": "12CJKOmopMgY"
      },
      "execution_count": null,
      "outputs": []
    },
    {
      "cell_type": "code",
      "source": [
        "import numpy as np"
      ],
      "metadata": {
        "id": "flpaytcEplD7"
      },
      "execution_count": null,
      "outputs": []
    },
    {
      "cell_type": "code",
      "source": [
        "  import numpy as np\n",
        "def Inversa(M):\n",
        " y = np.linalg.inv(M)\n",
        " return y"
      ],
      "metadata": {
        "id": "Y6PUvEzVpzF5"
      },
      "execution_count": null,
      "outputs": []
    },
    {
      "cell_type": "code",
      "source": [
        "Inversa ([[1,2,3],[2,3,4],[5,6,7]])"
      ],
      "metadata": {
        "colab": {
          "base_uri": "https://localhost:8080/"
        },
        "id": "rVX_3w0dq2JF",
        "outputId": "497afa8d-b5bd-4eb4-e3e9-591a7c0b00b5"
      },
      "execution_count": null,
      "outputs": [
        {
          "output_type": "execute_result",
          "data": {
            "text/plain": [
              "array([[-1.68884986e+15,  2.25179981e+15, -5.62949953e+14],\n",
              "       [ 3.37769972e+15, -4.50359963e+15,  1.12589991e+15],\n",
              "       [-1.68884986e+15,  2.25179981e+15, -5.62949953e+14]])"
            ]
          },
          "metadata": {},
          "execution_count": 19
        }
      ]
    },
    {
      "cell_type": "code",
      "source": [
        "\n"
      ],
      "metadata": {
        "id": "YcDNfuC0stUK"
      },
      "execution_count": null,
      "outputs": []
    }
  ]
}